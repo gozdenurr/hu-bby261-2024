{
  "nbformat": 4,
  "nbformat_minor": 0,
  "metadata": {
    "colab": {
      "provenance": [],
      "authorship_tag": "ABX9TyPSN3TeNpL/iLVAUDYqD9y9",
      "include_colab_link": true
    },
    "kernelspec": {
      "name": "python3",
      "display_name": "Python 3"
    },
    "language_info": {
      "name": "python"
    }
  },
  "cells": [
    {
      "cell_type": "markdown",
      "metadata": {
        "id": "view-in-github",
        "colab_type": "text"
      },
      "source": [
        "<a href=\"https://colab.research.google.com/github/gozdenurr/hu-bby261-2024/blob/main/Do%C4%9Fal_Dil_%C4%B0%C5%9Fleme_Proje_3.ipynb\" target=\"_parent\"><img src=\"https://colab.research.google.com/assets/colab-badge.svg\" alt=\"Open In Colab\"/></a>"
      ]
    },
    {
      "cell_type": "code",
      "source": [
        "from langdetect import detect\n",
        "\n",
        "# dil kodlarına karşılık gelen dil adları\n",
        "language_names = {\n",
        "    \"en\": \"İngilizce\",\n",
        "    \"tr\": \"Türkçe\",\n",
        "    \"de\": \"Almanca\",\n",
        "    \"fr\": \"Fransızca\",\n",
        "    \"es\": \"İspanyolca\"\n",
        "}\n",
        "\n",
        "# Kullanıcıdan metin alıyoruz\n",
        "text = input(\"Lütfen metni giriniz: \")\n",
        "\n",
        "# Metnin dilini tespit ediyoruz\n",
        "detected_language = detect(text)\n",
        "\n",
        "# Sonucu yazdırıyoruz\n",
        "print(f\"Metin büyük ihtimalle {language_names.get(detected_language, 'Bilinmeyen dil')} dilinde yazılmış.\")"
      ],
      "metadata": {
        "colab": {
          "base_uri": "https://localhost:8080/"
        },
        "id": "GIHjV7VHHpsq",
        "outputId": "ad19c15a-674b-49ae-eb0e-5537181d137c"
      },
      "execution_count": 2,
      "outputs": [
        {
          "output_type": "stream",
          "name": "stdout",
          "text": [
            "Lütfen metni giriniz: \"Das Leben ist schön, wenn man die kleinen Dinge schätzt.\"\n",
            "Metin büyük ihtimalle Almanca dilinde yazılmış.\n"
          ]
        }
      ]
    }
  ]
}