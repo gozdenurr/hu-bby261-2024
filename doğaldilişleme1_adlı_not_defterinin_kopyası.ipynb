{
  "nbformat": 4,
  "nbformat_minor": 0,
  "metadata": {
    "colab": {
      "provenance": [],
      "authorship_tag": "ABX9TyOWACJANrF9sLl/MObkAjtu",
      "include_colab_link": true
    },
    "kernelspec": {
      "name": "python3",
      "display_name": "Python 3"
    },
    "language_info": {
      "name": "python"
    }
  },
  "cells": [
    {
      "cell_type": "markdown",
      "metadata": {
        "id": "view-in-github",
        "colab_type": "text"
      },
      "source": [
        "<a href=\"https://colab.research.google.com/github/gozdenurr/hu-bby261-2024/blob/main/do%C4%9Faldili%C5%9Fleme1_adl%C4%B1_not_defterinin_kopyas%C4%B1.ipynb\" target=\"_parent\"><img src=\"https://colab.research.google.com/assets/colab-badge.svg\" alt=\"Open In Colab\"/></a>"
      ]
    },
    {
      "cell_type": "code",
      "source": [
        "# 1. Her dil için yaygın kelimeler içeren bir sözlük oluşturdum\n",
        "language_dict = {\n",
        "    \"Turkish\": [\"ve\", \"bir\", \"de\", \"bu\", \"o\", \"çok\", \"olarak\", \"ama\", \"ise\", \"gibi\"],\n",
        "    \"English\": [\"the\", \"is\", \"and\", \"to\", \"of\", \"in\", \"it\", \"that\", \"was\", \"for\"],\n",
        "    \"German\": [\"der\", \"und\", \"sein\", \"zu\", \"ein\", \"haben\", \"werden\", \"dies\", \"ich\", \"mit\"],\n",
        "    \"French\": [\"le\", \"et\", \"être\", \"à\", \"de\", \"en\", \"un\", \"qui\", \"il\", \"avoir\"],\n",
        "    \"Spanish\": [\"el\", \"ser\", \"y\", \"de\", \"en\", \"un\", \"que\", \"haber\", \"por\", \"con\"]\n",
        "}\n",
        "\n",
        "# 2. Metni kelimelere ayıran bir işlev tanımladım\n",
        "def detect_language(text):\n",
        "    words = text.lower().split()  # Metni küçük harfe çevirip kelimelere ayırdım\n",
        "\n",
        "    # 3. Her dil için sayaçları sıfırladım\n",
        "    language_counts = {language: 0 for language in language_dict}\n",
        "\n",
        "    # 4. Metindeki her kelime için dil sözlüklerini kontrol ettim\n",
        "    for word in words:\n",
        "        for language, common_words in language_dict.items():\n",
        "            if word in common_words:\n",
        "                language_counts[language] += 1\n",
        "\n",
        "    # 5. En çok eşleşen dili belirledim\n",
        "    detected_language = max(language_counts, key=language_counts.get)\n",
        "\n",
        "    return detected_language\n",
        "\n",
        "# Kullanıcıdan alınan metin üzerinde işlevi çağırıp ve sonucu aldım.\n",
        "input_text = input(\"Lütfen metni girin: \")  # Kullanıcıdan metin girişi aldım\n",
        "detected_language = detect_language(input_text)  # Metnin dili tespit ettim\n",
        "print(\"Metnin dili:\", detected_language)  # Sonuç ekrana yazdırdım"
      ],
      "metadata": {
        "colab": {
          "base_uri": "https://localhost:8080/"
        },
        "id": "6UPOUyjaAwgq",
        "outputId": "cbbd2bf5-39e8-4c9f-bfcd-a2084a07db37"
      },
      "execution_count": null,
      "outputs": [
        {
          "output_type": "stream",
          "name": "stdout",
          "text": [
            "Lütfen metni girin: my name is Jhon\n",
            "Metnin dili: English\n"
          ]
        }
      ]
    }
  ]
}