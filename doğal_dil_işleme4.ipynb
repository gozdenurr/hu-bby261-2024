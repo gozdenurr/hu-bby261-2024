{
  "nbformat": 4,
  "nbformat_minor": 0,
  "metadata": {
    "colab": {
      "provenance": [],
      "authorship_tag": "ABX9TyPZYm0zbSmYuuJWAr0uzfeK",
      "include_colab_link": true
    },
    "kernelspec": {
      "name": "python3",
      "display_name": "Python 3"
    },
    "language_info": {
      "name": "python"
    }
  },
  "cells": [
    {
      "cell_type": "markdown",
      "metadata": {
        "id": "view-in-github",
        "colab_type": "text"
      },
      "source": [
        "<a href=\"https://colab.research.google.com/github/gozdenurr/hu-bby261-2024/blob/main/do%C4%9Fal_dil_i%C5%9Fleme4.ipynb\" target=\"_parent\"><img src=\"https://colab.research.google.com/assets/colab-badge.svg\" alt=\"Open In Colab\"/></a>"
      ]
    },
    {
      "cell_type": "code",
      "execution_count": null,
      "metadata": {
        "colab": {
          "base_uri": "https://localhost:8080/"
        },
        "id": "3mRGPjoq4cmu",
        "outputId": "995cc54a-0502-41c0-a821-fd3320ad2b00"
      },
      "outputs": [
        {
          "output_type": "stream",
          "name": "stderr",
          "text": [
            "[nltk_data] Downloading package stopwords to /root/nltk_data...\n",
            "[nltk_data]   Unzipping corpora/stopwords.zip.\n"
          ]
        }
      ],
      "source": [
        "import nltk\n",
        "from sklearn.feature_extraction.text import TfidfVectorizer\n",
        "from sklearn.naive_bayes import MultinomialNB\n",
        "from sklearn.pipeline import make_pipeline\n",
        "import numpy as np\n",
        "\n",
        "# nltk stopwords yükleme\n",
        "nltk.download('stopwords')\n",
        "from nltk.corpus import stopwords\n",
        "from nltk.tokenize import word_tokenize\n",
        "\n",
        "# Örnek veri seti (Bu veri seti örnek olarak hazırlanmıştır)\n",
        "metinler = [\n",
        "    \"Hükümet yeni bir yasa çıkardı.\",\n",
        "    \"En yeni akıllı telefon piyasaya çıktı.\",\n",
        "    \"Futbol takımı şampiyon oldu.\",\n",
        "    \"Kalp sağlığınız için öneriler.\",\n",
        "    \"Yeni bir film vizyona girdi.\"\n",
        "]\n",
        "etiketler = [\"Siyaset\", \"Teknoloji\", \"Spor\", \"Sağlık\", \"Eğlence\"]\n",
        "\n",
        "# 1. Modeli Eğit\n",
        "# TF-IDF ve Naive Bayes ile model pipeline oluştur\n",
        "model = make_pipeline(TfidfVectorizer(), MultinomialNB())\n",
        "model.fit(metinler, etiketler)\n",
        "\n",
        "# 2. Metni Temizle\n",
        "def metni_temizle(metin):\n",
        "    # Küçük harfe çevirme\n",
        "    metin = metin.lower()\n",
        "    # Gereksiz kelimeleri temizleme\n",
        "    stop_words = set(stopwords.words('turkish'))\n",
        "    kelimeler = word_tokenize(metin)\n",
        "    temiz_metin = ' '.join([kelime for kelime in kelimeler if kelime not in stop_words])\n",
        "    return temiz_metin\n",
        "\n",
        "# 3. Kullanıcıdan Metin Al ve Tahmin Yap\n",
        "yeni_metin = input(\"Bir metin girin: \")\n",
        "yeni_metin = metni_temizle(yeni_metin)  # Metni temizle\n",
        "\n",
        "# 4. Tahmin yap ve sonucu döndür\n",
        "tahmin = model.predict([yeni_metin])[0]\n",
        "olasılık = max(model.predict_proba([yeni_metin])[0])  # En yüksek olasılığı al\n",
        "\n",
        "# Eğer olasılık %50'nin altındaysa \"diğer konular\" olarak geri dön\n",
        "if olasılık < 0.5:\n",
        "    tahmin = \"Diğer konular\"\n",
        "\n",
        "print(f\"Metin şu konuyla ilgili: {tahmin}\")"
      ]
    }
  ]
}