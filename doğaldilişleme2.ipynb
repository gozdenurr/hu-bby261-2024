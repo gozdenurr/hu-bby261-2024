{
  "nbformat": 4,
  "nbformat_minor": 0,
  "metadata": {
    "colab": {
      "provenance": [],
      "authorship_tag": "ABX9TyPpDS+ABRFo7by3EcJOfc20",
      "include_colab_link": true
    },
    "kernelspec": {
      "name": "python3",
      "display_name": "Python 3"
    },
    "language_info": {
      "name": "python"
    }
  },
  "cells": [
    {
      "cell_type": "markdown",
      "metadata": {
        "id": "view-in-github",
        "colab_type": "text"
      },
      "source": [
        "<a href=\"https://colab.research.google.com/github/gozdenurr/hu-bby261-2024/blob/main/do%C4%9Faldili%C5%9Fleme2.ipynb\" target=\"_parent\"><img src=\"https://colab.research.google.com/assets/colab-badge.svg\" alt=\"Open In Colab\"/></a>"
      ]
    },
    {
      "cell_type": "code",
      "execution_count": 1,
      "metadata": {
        "colab": {
          "base_uri": "https://localhost:8080/"
        },
        "id": "3btROHgFEpmv",
        "outputId": "9b697161-fe6e-4f59-9289-cd07b5517f74"
      },
      "outputs": [
        {
          "output_type": "stream",
          "name": "stdout",
          "text": [
            "Lütfen bir metin girin: \"Yapay zeka, son yıllarda hızla gelişerek pek çok sektörde devrim yaratmaya başladı. Özellikle sağlık, finans ve otomotiv sektörlerinde kullanılan bu teknoloji, süreçleri otomatikleştirerek verimliliği artırıyor. Ayrıca, yapay zeka algoritmaları sayesinde daha doğru tahminler yapılabiliyor ve kişiselleştirilmiş çözümler sunulabiliyor. Bu gelişmeler, iş dünyasında rekabetin boyutlarını yeniden tanımlarken, günlük hayatımızı da büyük ölçüde etkiliyor.\"\n",
            "Girilen metnin konusu: Teknoloji\n"
          ]
        }
      ],
      "source": [
        "# Konu başlıklarına göre anahtar kelimeler\n",
        "konular = {\n",
        "    \"Siyaset\": [\"seçim\", \"politik\", \"hükümet\", \"parlamento\", \"başkan\"],\n",
        "    \"Teknoloji\": [\"yazılım\", \"donanım\", \"internet\", \"teknoloji\", \"yapay zeka\"],\n",
        "    \"Spor\": [\"maç\", \"futbol\", \"basketbol\", \"oyuncu\", \"spor\"],\n",
        "    \"Sağlık\": [\"sağlık\", \"doktor\", \"hastane\", \"tedavi\", \"hastalık\"],\n",
        "    \"Eğlence\": [\"film\", \"müzik\", \"dizi\", \"oyun\", \"sanat\"]\n",
        "}\n",
        "\n",
        "# Metni temizlemek için fonksiyon\n",
        "def metin_temizle(metin):\n",
        "    metin = metin.lower()\n",
        "    for karakter in [\".\", \",\", \"!\", \"?\", \";\", \":\"]:\n",
        "        metin = metin.replace(karakter, \"\")\n",
        "    return metin\n",
        "\n",
        "# Anahtar kelimeleri saymak için fonksiyon\n",
        "def anahtar_kelime_sayici(metin, konular):\n",
        "    skorlar = {konu: 0 for konu in konular}\n",
        "    kelimeler = metin.split()\n",
        "    for konu, anahtar_kelimeler in konular.items():\n",
        "        for kelime in kelimeler:\n",
        "            if kelime in anahtar_kelimeler:\n",
        "                skorlar[konu] += 1\n",
        "    return skorlar\n",
        "\n",
        "# En yüksek skora göre konu başlığını belirlemek için fonksiyon\n",
        "def konu_belirle(skorlar):\n",
        "    en_yuksek_skor = max(skorlar.values())\n",
        "    if en_yuksek_skor == 0:\n",
        "        return \"Diğer Konular\"\n",
        "    else:\n",
        "        return max(skorlar, key=skorlar.get)\n",
        "\n",
        "# Ana fonksiyon\n",
        "def konu_tespit(metin):\n",
        "    temiz_metin = metin_temizle(metin)\n",
        "    skorlar = anahtar_kelime_sayici(temiz_metin, konular)\n",
        "    return konu_belirle(skorlar)\n",
        "\n",
        "# Kullanıcıdan metin girişi alma\n",
        "metin = input(\"Lütfen bir metin girin: \")\n",
        "print(\"Girilen metnin konusu:\", konu_tespit(metin))\n"
      ]
    }
  ]
}